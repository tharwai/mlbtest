{
 "cells": [
  {
   "cell_type": "code",
   "execution_count": 2,
   "metadata": {},
   "outputs": [],
   "source": [
    "import pandas as pd\n",
    "import numpy as np\n"
   ]
  },
  {
   "cell_type": "markdown",
   "metadata": {},
   "source": [
    "Introduction About the Data :\n",
    "    The dataset The goal is to predict price of given diamond (Regression Analysis).\n",
    "\n",
    "There are 10 independent variables (including id):\n",
    "\n",
    "1. ID      : Unique identifier of each diamond\n",
    "2. Carat   : Carat (ct.) refers to the unique unit of weight measurement used exclusively to weigh gemstones and diamonds.\n",
    "3. Cut     : Quality of Diamond Cut\n",
    "4. Color   : Color of Diamond\n",
    "5. Clarity : Diamond clarity is a measure of the purity and rarity of the stone, graded by the visibility of these\n",
    "            characteristics under 10-power magnification.\n",
    "6. Depth   : The depth of diamond is its height (in millimeters) measured from the culet (bottom tip) to the table (flat,\n",
    "            top surface)\n",
    "7. Table   : A diamond's table is the facet which can be seen when the stone is viewed face up.\n",
    "        x  : Diamond X dimension\n",
    "        y  : Diamond Y dimension\n",
    "        x  : Diamond Z dimension\n",
    "8. Target variable\n",
    "    Price  : Price of the given Diamond.\n",
    "Dataset Source Link : https://www.kaggle.com/competitions/playground-series-s3e8/data?select=train.csv"
   ]
  },
  {
   "cell_type": "markdown",
   "metadata": {},
   "source": [
    "1+2"
   ]
  },
  {
   "cell_type": "markdown",
   "metadata": {},
   "source": []
  }
 ],
 "metadata": {
  "kernelspec": {
   "display_name": "Python 3",
   "language": "python",
   "name": "python3"
  },
  "language_info": {
   "codemirror_mode": {
    "name": "ipython",
    "version": 3
   },
   "file_extension": ".py",
   "mimetype": "text/x-python",
   "name": "python",
   "nbconvert_exporter": "python",
   "pygments_lexer": "ipython3",
   "version": "3.9.13"
  }
 },
 "nbformat": 4,
 "nbformat_minor": 2
}
